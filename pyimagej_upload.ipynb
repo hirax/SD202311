{
 "cells": [
  {
   "cell_type": "code",
   "execution_count": 1,
   "id": "6eeae4d1-68dd-46d7-b5d6-b945748d6d15",
   "metadata": {},
   "outputs": [],
   "source": [
    "import imagej; import scyjava\n",
    "scyjava.config.add_option('-Xmx6g') # 使用メモリ上限を必要に応じ変更\n",
    "\n",
    "# インタラクティブモードで開く\n",
    "ij = imagej.init('C:\\Program Files\\Fiji.app', mode='interactive')\n",
    "ij.ui().showUI() # UI表示も行わせておくと最初はわかりやすい\n",
    "\n",
    "def open_image(img_path):\n",
    "    ij.py.run_macro(\"\"\"open(\"{}\");\"\"\".format(img_path))\n",
    "    return ij.WindowManager.getCurrentWindow()\n",
    "\n",
    "def image_to_Luminance(image_window):\n",
    "    image_window.toFront()\n",
    "    ij.py.run_macro(\"\"\"run(\"RGB to Luminance\");\"\"\")\n",
    "    return ij.WindowManager.getCurrentWindow()\n",
    "\n",
    "def dog_image(image_window, sigma):\n",
    "    image_window.toFront()\n",
    "    ij.py.run_macro(\"\"\"run(\"16-bit\");\"\"\")\n",
    "    ij.py.run_macro(\"\"\"run(\"Duplicate...\", \" \");\"\"\")\n",
    "    ij.py.run_macro(\"\"\"run(\"Gaussian Blur...\", \"sigma={}\");\"\"\".format(sigma))\n",
    "    blured_image = ij.WindowManager.getCurrentWindow()\n",
    "    ij.py.run_macro(\"\"\"imageCalculator(\"Difference create 32-bit\",\"{}\",\"{}\");\"\"\".\n",
    "                    format(image_window, blured_image))\n",
    "    dog_image = ij.WindowManager.getCurrentWindow()\n",
    "    ij.py.run_macro(\"\"\"run(\"Enhance Local Contrast (CLAHE)\", \n",
    "                    \"blocksize=127 histogram=256 maximum=3 mask=*None*\");\"\"\")\n",
    "    ij.py.run_macro(\"\"\"run(\"8-bit\");\"\"\")    \n",
    "    return ij.WindowManager.getCurrentWindow()\n",
    "\n",
    "def ridge_detection(image_window, sigma):\n",
    "    image_window.toFront()\n",
    "    ij.py.run_macro(\"\"\"run(\"Ridge Detection\", \"line_width=3.5 high_contrast=230 \n",
    "      low_contrast=87 estimate_width extend_line displayresults add_to_manager \n",
    "      method_for_overlap_resolution=NONE sigma={} lower_threshold=3.06 \n",
    "      upper_threshold=7.99 minimum_line_length=0 maximum=0\");\"\"\".format(sigma))\n",
    "    results = ij.ResultsTable.getResultsTable()\n",
    "    ridges = {}\n",
    "    for column in results.getHeadings():\n",
    "        ridges[column] = [item for item in results.getColumn(column)]\n",
    "    return ridges\n",
    "\n",
    "# 処理を実行させる\n",
    "src_img_window = open_image(\"sample.tif\")\n",
    "src_luminance_img_window = image_to_Luminance(src_img_window)\n",
    "dog_img_window = dog_image(src_luminance_img_window, 15) # 鮮鋭化パラメータ\n",
    "ridges = ridge_detection(dog_img_window, 2.2)            # 筋・畝抽出パラメータ"
   ]
  },
  {
   "cell_type": "code",
   "execution_count": null,
   "id": "01e75c2c",
   "metadata": {},
   "outputs": [],
   "source": [
    "import numpy as np\n",
    "from matplotlib import pyplot as plt\n",
    "\n",
    "thetas = np.array(ridges['Angle of normal']); r = ridges['Length']\n",
    "fig = plt.figure(figsize=(6, 6))\n",
    "for idx, theta in enumerate(thetas):\n",
    "    plt.polar([theta, theta+np.pi], [r[idx]/2, r[idx]/2],\n",
    "              color='b',alpha=0.02,linestyle='-')"
   ]
  }
 ],
 "metadata": {
  "kernelspec": {
   "display_name": "Python 3 (ipykernel)",
   "language": "python",
   "name": "python3"
  },
  "language_info": {
   "codemirror_mode": {
    "name": "ipython",
    "version": 3
   },
   "file_extension": ".py",
   "mimetype": "text/x-python",
   "name": "python",
   "nbconvert_exporter": "python",
   "pygments_lexer": "ipython3",
   "version": "3.8.16"
  },
  "toc": {
   "base_numbering": 1,
   "nav_menu": {},
   "number_sections": true,
   "sideBar": true,
   "skip_h1_title": false,
   "title_cell": "Table of Contents",
   "title_sidebar": "Contents",
   "toc_cell": false,
   "toc_position": {
    "height": "calc(100% - 180px)",
    "left": "10px",
    "top": "150px",
    "width": "247.390625px"
   },
   "toc_section_display": true,
   "toc_window_display": true
  }
 },
 "nbformat": 4,
 "nbformat_minor": 5
}
